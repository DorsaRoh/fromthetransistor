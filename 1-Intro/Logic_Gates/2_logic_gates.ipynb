{
  "cells": [
    {
      "cell_type": "markdown",
      "metadata": {},
      "source": [
        "We can write a function that takes two inputs (0 or 1), and outputs a specific value depending on the input."
      ]
    },
    {
      "cell_type": "code",
      "execution_count": 15,
      "metadata": {},
      "outputs": [
        {
          "name": "stdout",
          "output_type": "stream",
          "text": [
            "Try 0 and 0: 0\n",
            "Try 0 and 1: 0\n",
            "Try 1 and 0: 0\n",
            "Try 1 and 1: 1\n"
          ]
        }
      ],
      "source": [
        "# AND gate - outputs 1 if both inputs are 1. I.e. input = (1,1)\n",
        "\n",
        "def AND(a, b):\n",
        "    position = a * 2 + b\n",
        "    table = [0, 0, 0, 1]    # decision list\n",
        "    return table[position]\n",
        "\n",
        "print(\"Try 0 and 0:\", AND(0, 0))\n",
        "print(\"Try 0 and 1:\", AND(0, 1))\n",
        "print(\"Try 1 and 0:\", AND(1, 0))\n",
        "print(\"Try 1 and 1:\", AND(1, 1))"
      ]
    },
    {
      "cell_type": "code",
      "execution_count": 16,
      "metadata": {},
      "outputs": [
        {
          "name": "stdout",
          "output_type": "stream",
          "text": [
            "Try 0 and 0: 0\n",
            "Try 0 and 1: 1\n",
            "Try 1 and 0: 1\n",
            "Try 1 and 1: 0\n"
          ]
        }
      ],
      "source": [
        "# XOR gate - outputs 1 if both inputs are different. I.e. input = (0,1) or (1,0)\n",
        "\n",
        "def XOR(a, b):\n",
        "    position = a * 2 + b\n",
        "    table = [0, 1, 1, 0]    # decision list\n",
        "    return table[position]\n",
        "\n",
        "print(\"Try 0 and 0:\", XOR(0, 0))\n",
        "print(\"Try 0 and 1:\", XOR(0, 1))\n",
        "print(\"Try 1 and 0:\", XOR(1, 0))\n",
        "print(\"Try 1 and 1:\", XOR(1, 1))"
      ]
    },
    {
      "cell_type": "markdown",
      "metadata": {},
      "source": [
        "Now let's use these to build new ones."
      ]
    },
    {
      "cell_type": "code",
      "execution_count": null,
      "metadata": {},
      "outputs": [
        {
          "name": "stdout",
          "output_type": "stream",
          "text": [
            "NAND(1,1): 0\n",
            "NAND(0,1): 1\n"
          ]
        }
      ],
      "source": [
        "def AND(a, b):             # AND gate: (0,0)=0, (0,1)=0, (1,0)=0, (1,1)=1\n",
        "    position = [0,0,0,1]\n",
        "    return position[a*2 + b]\n",
        "\n",
        "def NOT(x):               # NOT gate: (0)=1, (1)=0\n",
        "    position = [1,0]\n",
        "    return position[x]\n",
        "\n",
        "def NAND(a, b):           # NAND gate: inverse of AND gate - uses NOT!  (0,0)=1, (0,1)=1, (1,0)=1, (1,1)=0\n",
        "    return NOT(AND(a,b))    # NAND(a,b) = NOT(AND(a,b))\n",
        "\n",
        "\n",
        "print(\"NAND(1,1):\", NAND(1, 1))  # should be 0\n",
        "print(\"NAND(0,1):\", NAND(0, 1))  # should be 1"
      ]
    },
    {
      "cell_type": "code",
      "execution_count": null,
      "metadata": {},
      "outputs": [
        {
          "name": "stdout",
          "output_type": "stream",
          "text": [
            "OR(0, 0) = 0\n",
            "OR(0, 1) = 1\n",
            "OR(1, 0) = 1\n",
            "OR(1, 1) = 1\n"
          ]
        }
      ],
      "source": [
        "# OR gate: (0,0)=0, (0,1)=1, (1,0)=1, (1,1)=1 \n",
        "    # using only NAND,\n",
        "        # NOT(x) == NAND(x,x)\n",
        "        # OR(x) == NOT(AND(NOT a, NOT b))\n",
        "\n",
        "def OR(a, b):\n",
        "    return NAND(NAND(a,a), NAND(b,b))       \n",
        "    \n",
        "for a in [0,1]:\n",
        "    for b in [0,1]:\n",
        "        print(f\"OR({a}, {b}) = {OR(a, b)}\")"
      ]
    }
  ],
  "metadata": {
    "kernelspec": {
      "display_name": "Python 3",
      "language": "python",
      "name": "python3"
    },
    "language_info": {
      "codemirror_mode": {
        "name": "ipython",
        "version": 3
      },
      "file_extension": ".py",
      "mimetype": "text/x-python",
      "name": "python",
      "nbconvert_exporter": "python",
      "pygments_lexer": "ipython3",
      "version": "3.9.6"
    }
  },
  "nbformat": 4,
  "nbformat_minor": 2
}
