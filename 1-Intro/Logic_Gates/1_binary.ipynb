{
 "cells": [
  {
   "cell_type": "markdown",
   "id": "77551fab",
   "metadata": {},
   "source": [
    "## Binary"
   ]
  },
  {
   "cell_type": "markdown",
   "id": "4a87303d",
   "metadata": {},
   "source": [
    "Computers only use **0** and **1**\n",
    "<br><br>\n",
    "0 →  off\n",
    "<br>\n",
    "1 →  on"
   ]
  },
  {
   "cell_type": "markdown",
   "id": "c9a73e5f",
   "metadata": {},
   "source": [
    "For example, they see each digit as positions like:\n",
    "<br><br>\n",
    "\n",
    "\n",
    "... 2^**3** | 2^**2** | 2^**1** | 2^**0**\n",
    "\n",
    "<br>\n",
    "i.e., grows exponentially right-to-left\n",
    "\n",
    "... *8*s | *4*s | *2*s | *1*s\n",
    "\n",
    "<br>\n",
    "\n",
    "For example, 11 (`1 1 0 1` in binary) is seen like:\n",
    "\n",
    "<br>\n",
    "<table>\n",
    "  <tr>\n",
    "    <th>Bit 3</th>\n",
    "    <th>Bit 2</th>\n",
    "    <th>Bit 1</th>\n",
    "    <th>Bit 0</th>\n",
    "  </tr>\n",
    "  <tr>\n",
    "    <td>1</td>\n",
    "    <td>0</td>\n",
    "    <td>1</td>\n",
    "    <td>1</td>\n",
    "  </tr>\n",
    "</table>\n",
    "\n",
    "**1 0 1 1**  → **1**(*8*) + **0**(*4*) + **1**(*2*) + **1**(*1*) = 11\n",
    "\n",
    "<br>\n",
    "So 11 in binary is 1011\n",
    "\n",
    "<br><br>\n",
    "\n",
    "#### **Binary works by position:**\n",
    "In binary, each digit (bit) is multiplied by the value of its position (e.g., 16, 8, 4, 2, 1), and the results are added together to get the final number.\n",
    "\n",
    "<br>\n",
    "\n",
    "---\n",
    "\n",
    "Converting from decimal to binary:\n",
    "\n",
    "If you want to convert `11` into binary:\n",
    "- 11 has an 8 -> write 1 -> subtract 8 -> write 1 remaining: 3 \n",
    "- 3 has no 4 -> write 0\n",
    "- 3 has a 2 -> write 1 -> subtract 1 -> remaining: 1\n",
    "- 1 has a 1 -> write 1 -> subtract 1 -> remaining 0\n",
    "\n",
    "So: 11 = **1101**"
   ]
  },
  {
   "cell_type": "markdown",
   "id": "77e2658a",
   "metadata": {},
   "source": [
    "Let's create a 1-bit calculator!"
   ]
  },
  {
   "cell_type": "markdown",
   "id": "dc257c90",
   "metadata": {},
   "source": [
    "## 1-bit Adder (calculator)\n",
    "\n",
    "- Takes **two inputs**: a, b\n",
    "- Plus an optional **carry-in** (`cin`)\n",
    "- Returns:\n",
    "    - sum (`a + b + cin`)\n",
    "    - cout (carry-out, for the next bit)\n",
    "<br><br>\n",
    "We want to build this function:\n",
    "\n",
    "```\n",
    "def full_adder(a, b, cin):\n",
    "    return (sum_bit, carry_out)\n",
    "```\n",
    "where a, b and cin are each either 0 or 1\n",
    "\n",
    "and you return:\n",
    "- sum_bit - the 1-bit result of a + b + cin\n",
    "- carry_out - did we \"overflow\" and need to carry to the next digit?"
   ]
  },
  {
   "cell_type": "code",
   "execution_count": null,
   "id": "c43e02cf",
   "metadata": {},
   "outputs": [
    {
     "name": "stdout",
     "output_type": "stream",
     "text": [
      "[1, 0, 1, 1, 0]\n"
     ]
    }
   ],
   "source": [
    "# assume numbers A and B have the same number of digits\n",
    "import math\n",
    "\n",
    "def calculator(A, B):\n",
    "    cin = 0\n",
    "    ans = []\n",
    "\n",
    "    for i in range(len(A)-1, -1, -1):   # loops backwards\n",
    "        a = A[i]\n",
    "        b = B[i]\n",
    "        digit_sum = a + b + cin\n",
    "        binary_sum = digit_sum % 2\n",
    "        cin = digit_sum // 2\n",
    "\n",
    "        ans.insert(0, binary_sum)\n",
    "\n",
    "    if cin == 1:\n",
    "        ans.insert(0, cin)\n",
    "\n",
    "    return ans\n",
    "\n",
    "# let's test it!\n",
    "print(calculator([1,0,1,1],[1,0,1,1])) # 11 + 11 \n",
    "\n",
    "# prints [1, 0, 1, 1, 0] = 22"
   ]
  }
 ],
 "metadata": {
  "kernelspec": {
   "display_name": "Python 3",
   "language": "python",
   "name": "python3"
  },
  "language_info": {
   "codemirror_mode": {
    "name": "ipython",
    "version": 3
   },
   "file_extension": ".py",
   "mimetype": "text/x-python",
   "name": "python",
   "nbconvert_exporter": "python",
   "pygments_lexer": "ipython3",
   "version": "3.9.6"
  }
 },
 "nbformat": 4,
 "nbformat_minor": 5
}
